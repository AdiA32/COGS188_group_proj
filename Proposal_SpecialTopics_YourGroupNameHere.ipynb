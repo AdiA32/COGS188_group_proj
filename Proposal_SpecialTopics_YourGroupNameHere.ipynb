{
 "cells": [
  {
   "attachments": {},
   "cell_type": "markdown",
   "metadata": {},
   "source": [
    "# COGS 188 - Special Topics Proposal"
   ]
  },
  {
   "cell_type": "markdown",
   "metadata": {},
   "source": [
    "# Names\n",
    "- Aditya Agrawal \n",
    "- Abhishek Siva "
   ]
  },
  {
   "attachments": {},
   "cell_type": "markdown",
   "metadata": {},
   "source": [
    "# Topic and Outline\n",
    "\n",
    "### Main Topic\n",
    "Time series analysis is a statistical technique used to analyze data points collected and ordered over time. It's used in various fields such as economics, finance, and weather forecasting. **Models** are also used to make predictions and identify patterns within the data and will be talked about like ARIMA, CNN, RNN etc. See outline. \n",
    "\n",
    "**Time Series Data:** Time series data consists of observations or measurements taken at intervals over time. Each data point is associated with a specific time index. Examples include stock prices, temperature readings, sales figures, and sensor data.\n",
    "\n",
    "### Learning Goals for Students\n",
    "- Students will be able to understand the various components of Time Series.\n",
    "- Students will be able to describe simple forecasting models.\n",
    "- Students will be able to identify a stationary time series.\n",
    "- Students will be able to develop a basic understanding of ARIMA Models.\n",
    "- Students will be able to understand CNNs and RNNs.\n",
    "\n",
    "### Outline of the Topic\n",
    "\n",
    "#### Components of Time Series:\n",
    "- Trend\n",
    "- Seasonal Variations\n",
    "- Cyclic Variations\n",
    "- Random or Irregular Movements\n",
    "\n",
    "#### Simple Forecasting Models:\n",
    "- Average Method\n",
    "- Naive Method\n",
    "- Seasonal Naive Method\n",
    "- Exponential Smoothing\n",
    "\n",
    "#### Example: Stationary and Non-Stationary Univariate Time Series\n",
    "**Resources:**\n",
    "- Google stock price for 200 consecutive days\n",
    "- Daily change in the Google stock price for 200 consecutive days\n",
    "- Annual number of strikes in the US\n",
    "- Monthly sales of new one-family houses sold in the US\n",
    "- Annual price of a dozen eggs in the US (constant dollars)\n",
    "- Monthly total of pigs slaughtered in Victoria, Australia\n",
    "- Annual total of lynx trapped in the McKenzie River district of north-west Canada\n",
    "- Monthly Australian beer production\n",
    "- Monthly Australian electricity production\n",
    "\n",
    "#### ARIMA (Autoregressive Integrated Moving Average) Models\n",
    "- **AR: Autoregression**  \n",
    "  A model that uses the dependent relationship between an observation and some number of its own past values.\n",
    "- **I: Integrated**  \n",
    "  Using differencing of raw observations to make the time series stationary.\n",
    "- **MA: Moving Average**  \n",
    "  A model that uses the dependency between an observation and a residual error from a moving average model applied to lagged observations.\n",
    "\n",
    "#### CNNs vs. RNNs\n",
    "**CNNs (Convolutional Neural Networks):**\n",
    "- Good at feature extraction from fixed-length inputs, which can be helpful for time series data with consistent lengths.\n",
    "- Computationally efficient due to their ability to leverage parallel processing, especially when GPU acceleration is available.\n",
    "\n",
    "**RNNs (Recurrent Neural Networks):**\n",
    "- Designed specifically to model sequential data by maintaining an internal state, allowing them to capture dependencies across time steps for historical context.\n",
    "- Less efficient computationally compared to CNNs, particularly during training, due to their sequential nature, which limits parallelization."
   ]
  },
  {
   "attachments": {},
   "cell_type": "markdown",
   "metadata": {},
   "source": [
    "# Pedagogy\n",
    "\n",
    "\n",
    "### Readings\n",
    "\n",
    "#### “Time Series Analysis and Its Applications” by Robert H. Shumway and David S. Stoffer   \n",
    "Assigned Reading: Chapter 3 - ARIMA Models   \n",
    "Link to PDF: http://www.stat.ucla.edu/~frederic/415/S23/tsa4.pdf  \n",
    "Description: This chapter mainly focuses on fundamentals of ARIMA models with details on things like the math behind them, forecasting, estimation, how to build them, regression with autocorrelated errors, and multiplicative seasonal ARIMA models.   \n",
    "\n",
    "\n",
    "#### \"Deep Learning for Time Series Forecasting\" by Jason Brownlee  \n",
    "Assigned Reading:   \n",
    "Chapter 8 - How to Develop CNNs for Time Series Forecasting   \n",
    "Chapter 9 - How to Develop LSTMs for Time Series Forecasting  \n",
    "Link to PDF: https://github.com/aaaastark/Data-Scientist-Books/blob/main/Deep%20Learning%20for%20Time%20Series%20Forecasting%20-%20Predict%20the%20Future%20with%20MLPs%2C%20CNNs%20and%20LSTMs%20in%20Python%20by%20Jason%20Brownlee%20(z-lib.org).pdf  \n",
    "\n",
    "### Lecture description\n",
    "\n",
    "\n",
    "#### Introduction to Time Series Components (5 mins) - Aditya\n",
    "Key Points: Understanding trend, seasonal variations, cyclic variations, and random movements.\n",
    "Sub-Elements: Definitions and examples of each component.\n",
    "#### Simple Forecasting Models (5 mins) - Abhishek\n",
    "Key Points: Techniques such as Average Method, Naive Method, Seasonal Naive Method, and Exponential Smoothing.\n",
    "Sub-Elements: Practical applications and limitations of each method.\n",
    "#### ARIMA Models (20 mins) - Aditya \n",
    "Key Points: Detailed explanation of ARIMA models, including AR, MA, and Integration components.\n",
    "Sub-Elements: Model identification, parameter estimation, and diagnostic checking.\n",
    "#### Deep Learning Approaches (20 mins) - Abhishek\n",
    "Key Points: Comparing CNNs and RNNs, with a focus on LSTMs.\n",
    "Sub-Elements: Implementation examples, advantages, and challenges of each approach.\n",
    "\n",
    "### Active learning\n",
    "Active Learning\n",
    "Activity: Interactive Competitive Quiz: \n",
    "Description: We are planning on creating a KHAOOT for in class engagement. This way students can retain info and also be engaged. We can quiz on the things we have taught and also create a fun / competitive environment for people to learn and grow in. The topics would be everything in the lecture outline. \n",
    "Duration: 10 minutes\n",
    "\n",
    "\n",
    "Group Brainstorming\n",
    "Brainstorm Topic: Challenges and Solutions in Time Series Forecasting\n",
    "Description: We would discuss common challenges in time series forecasting such as handling missing data, dealing with seasonality, and model selection. Everyone will be encouraged to propose potential solutions and share experiences from any prior projects.\n",
    "Duration: 15 minutes\n",
    "\n",
    "\n"
   ]
  },
  {
   "attachments": {},
   "cell_type": "markdown",
   "metadata": {},
   "source": [
    "# Dates\n",
    "- 1st Preference: May 29, 2024\n",
    "- 2nd Preference: May 31, 2024\n",
    "- 3rd Preference: June 3, 2024  \n",
    "  \n",
    "  \n",
    "  \n",
    "  \n",
    "4th Preference: June 5, 2024  \n",
    "5th Preference: June 7, 2024\n"
   ]
  },
  {
   "cell_type": "markdown",
   "metadata": {},
   "source": [
    "# Team Expectations "
   ]
  },
  {
   "cell_type": "markdown",
   "metadata": {},
   "source": [
    "* Meet Mondays at 5:30pm to work on/assign parts of project\n",
    "* Try to communicate punctually about work/availability/any changes (< 24 hours)\n",
    "* Work equally on assigned parts of the project and start early\n",
    "* Be respectfuly, communicative, and engaged\n"
   ]
  },
  {
   "cell_type": "markdown",
   "metadata": {},
   "source": [
    "# Project Timeline Proposal"
   ]
  },
  {
   "cell_type": "markdown",
   "metadata": {},
   "source": [
    "| Meeting Date | Meeting Time | Completed Before Meeting | Discuss at Meeting |\n",
    "|--------------|--------------|--------------------------|--------------------|\n",
    "| Day 1-5      | 10 AM        | Deep dive on the topic (Aditya, Abhishek) | Ensure proper understanding of the topic |\n",
    "| Day 6-10     | 10 AM        | Develop bullet points for slides (Aditya, Abhishek) | Ensure proper flow of the content |\n",
    "| Day 10-12    | 10 AM        | Align extra material with slides (Aditya, Abhishek) | Ensure readings and activities match the content |\n",
    "| Day 13-15    | 10 AM        | Present to friends and family (Aditya, Abhishek) | Gather feedback and identify areas for improvement |"
   ]
  }
 ],
 "metadata": {
  "kernelspec": {
   "display_name": "Python 3",
   "language": "python",
   "name": "python3"
  },
  "language_info": {
   "codemirror_mode": {
    "name": "ipython",
    "version": 3
   },
   "file_extension": ".py",
   "mimetype": "text/x-python",
   "name": "python",
   "nbconvert_exporter": "python",
   "pygments_lexer": "ipython3",
   "version": "3.7.11 (default, Jul 27 2021, 07:03:16) \n[Clang 10.0.0 ]"
  },
  "vscode": {
   "interpreter": {
    "hash": "40d3a090f54c6569ab1632332b64b2c03c39dcf918b08424e98f38b5ae0af88f"
   }
  }
 },
 "nbformat": 4,
 "nbformat_minor": 2
}
